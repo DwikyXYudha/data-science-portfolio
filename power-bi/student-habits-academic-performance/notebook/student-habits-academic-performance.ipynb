{
 "cells": [
  {
   "cell_type": "code",
   "execution_count": 14,
   "id": "482bec4f",
   "metadata": {},
   "outputs": [],
   "source": [
    "import polars as pl\n",
    "from pathlib import Path\n",
    "import zipfile \n",
    "\n",
    "souce_path = Path(\"../Datasets/student_habits_vs_academic_performance.zip\")\n",
    "target_path = Path(\"../Datasets/student_habits_vs_academic_performance\")\n",
    "with zipfile.ZipFile(souce_path, \"r\") as zip_ref:\n",
    "    zip_ref.extractall(target_path)\n",
    "\n",
    "file_path = Path(\"../Datasets/student_habits_vs_academic_performance/student_habits_performance.csv\")\n",
    "df = pl.read_csv(file_path)\n",
    "\n",
    "numerical_columns = [col for col, dtype in df.schema.items() if dtype == pl.Float64]\n",
    "df = df.with_columns(\n",
    "    [pl.col(col).round(0).cast(pl.Int64) for col in numerical_columns]\n",
    ")\n",
    "\n",
    "education_order = {\n",
    "    \"None\": 0,\n",
    "    \"High School\": 1,\n",
    "    \"Bachelor\": 2,\n",
    "    \"Master\": 3\n",
    "}\n",
    "\n",
    "df = df.with_columns(\n",
    "    pl.col(\"parental_education_level\").replace_strict(education_order).alias(\"parental_education_level_order\")\n",
    ")\n",
    "\n",
    "df.write_csv(Path(\"../Datasets/student_habits_vs_academic_performance/student_habits_performance_preprocess_v1.csv\"), separator=\";\")\n"
   ]
  },
  {
   "cell_type": "code",
   "execution_count": 15,
   "id": "463f0ad6",
   "metadata": {},
   "outputs": [
    {
     "data": {
      "text/plain": [
       "['student_id',\n",
       " 'age',\n",
       " 'gender',\n",
       " 'study_hours_per_day',\n",
       " 'social_media_hours',\n",
       " 'netflix_hours',\n",
       " 'part_time_job',\n",
       " 'attendance_percentage',\n",
       " 'sleep_hours',\n",
       " 'diet_quality',\n",
       " 'exercise_frequency',\n",
       " 'parental_education_level',\n",
       " 'internet_quality',\n",
       " 'mental_health_rating',\n",
       " 'extracurricular_participation',\n",
       " 'exam_score',\n",
       " 'parental_education_level_order']"
      ]
     },
     "execution_count": 15,
     "metadata": {},
     "output_type": "execute_result"
    }
   ],
   "source": [
    "df.columns"
   ]
  },
  {
   "cell_type": "code",
   "execution_count": 12,
   "id": "150bfb80",
   "metadata": {},
   "outputs": [
    {
     "data": {
      "text/html": [
       "<div><style>\n",
       ".dataframe > thead > tr,\n",
       ".dataframe > tbody > tr {\n",
       "  text-align: right;\n",
       "  white-space: pre-wrap;\n",
       "}\n",
       "</style>\n",
       "<small>shape: (4, 2)</small><table border=\"1\" class=\"dataframe\"><thead><tr><th>parental_education_level</th><th>count</th></tr><tr><td>str</td><td>u32</td></tr></thead><tbody><tr><td>&quot;Master&quot;</td><td>167</td></tr><tr><td>&quot;High School&quot;</td><td>392</td></tr><tr><td>&quot;None&quot;</td><td>91</td></tr><tr><td>&quot;Bachelor&quot;</td><td>350</td></tr></tbody></table></div>"
      ],
      "text/plain": [
       "shape: (4, 2)\n",
       "┌──────────────────────────┬───────┐\n",
       "│ parental_education_level ┆ count │\n",
       "│ ---                      ┆ ---   │\n",
       "│ str                      ┆ u32   │\n",
       "╞══════════════════════════╪═══════╡\n",
       "│ Master                   ┆ 167   │\n",
       "│ High School              ┆ 392   │\n",
       "│ None                     ┆ 91    │\n",
       "│ Bachelor                 ┆ 350   │\n",
       "└──────────────────────────┴───────┘"
      ]
     },
     "execution_count": 12,
     "metadata": {},
     "output_type": "execute_result"
    }
   ],
   "source": [
    "df[\"parental_education_level\"].value_counts()"
   ]
  },
  {
   "cell_type": "code",
   "execution_count": 3,
   "id": "5998be32",
   "metadata": {},
   "outputs": [
    {
     "data": {
      "text/html": [
       "<div><style>\n",
       ".dataframe > thead > tr,\n",
       ".dataframe > tbody > tr {\n",
       "  text-align: right;\n",
       "  white-space: pre-wrap;\n",
       "}\n",
       "</style>\n",
       "<small>shape: (1, 16)</small><table border=\"1\" class=\"dataframe\"><thead><tr><th>student_id</th><th>age</th><th>gender</th><th>study_hours_per_day</th><th>social_media_hours</th><th>netflix_hours</th><th>part_time_job</th><th>attendance_percentage</th><th>sleep_hours</th><th>diet_quality</th><th>exercise_frequency</th><th>parental_education_level</th><th>internet_quality</th><th>mental_health_rating</th><th>extracurricular_participation</th><th>exam_score</th></tr><tr><td>u32</td><td>u32</td><td>u32</td><td>u32</td><td>u32</td><td>u32</td><td>u32</td><td>u32</td><td>u32</td><td>u32</td><td>u32</td><td>u32</td><td>u32</td><td>u32</td><td>u32</td><td>u32</td></tr></thead><tbody><tr><td>1000</td><td>8</td><td>3</td><td>78</td><td>60</td><td>51</td><td>2</td><td>320</td><td>68</td><td>3</td><td>7</td><td>4</td><td>3</td><td>10</td><td>2</td><td>480</td></tr></tbody></table></div>"
      ],
      "text/plain": [
       "shape: (1, 16)\n",
       "┌────────────┬─────┬────────┬─────────────┬───┬─────────────┬────────────┬────────────┬────────────┐\n",
       "│ student_id ┆ age ┆ gender ┆ study_hours ┆ … ┆ internet_qu ┆ mental_hea ┆ extracurri ┆ exam_score │\n",
       "│ ---        ┆ --- ┆ ---    ┆ _per_day    ┆   ┆ ality       ┆ lth_rating ┆ cular_part ┆ ---        │\n",
       "│ u32        ┆ u32 ┆ u32    ┆ ---         ┆   ┆ ---         ┆ ---        ┆ icipation  ┆ u32        │\n",
       "│            ┆     ┆        ┆ u32         ┆   ┆ u32         ┆ u32        ┆ ---        ┆            │\n",
       "│            ┆     ┆        ┆             ┆   ┆             ┆            ┆ u32        ┆            │\n",
       "╞════════════╪═════╪════════╪═════════════╪═══╪═════════════╪════════════╪════════════╪════════════╡\n",
       "│ 1000       ┆ 8   ┆ 3      ┆ 78          ┆ … ┆ 3           ┆ 10         ┆ 2          ┆ 480        │\n",
       "└────────────┴─────┴────────┴─────────────┴───┴─────────────┴────────────┴────────────┴────────────┘"
      ]
     },
     "execution_count": 3,
     "metadata": {},
     "output_type": "execute_result"
    }
   ],
   "source": [
    "df.select(pl.all().n_unique())"
   ]
  },
  {
   "cell_type": "code",
   "execution_count": 4,
   "id": "8d4fb9df",
   "metadata": {},
   "outputs": [
    {
     "data": {
      "text/html": [
       "<div><style>\n",
       ".dataframe > thead > tr,\n",
       ".dataframe > tbody > tr {\n",
       "  text-align: right;\n",
       "  white-space: pre-wrap;\n",
       "}\n",
       "</style>\n",
       "<small>shape: (1, 16)</small><table border=\"1\" class=\"dataframe\"><thead><tr><th>student_id</th><th>age</th><th>gender</th><th>study_hours_per_day</th><th>social_media_hours</th><th>netflix_hours</th><th>part_time_job</th><th>attendance_percentage</th><th>sleep_hours</th><th>diet_quality</th><th>exercise_frequency</th><th>parental_education_level</th><th>internet_quality</th><th>mental_health_rating</th><th>extracurricular_participation</th><th>exam_score</th></tr><tr><td>u32</td><td>u32</td><td>u32</td><td>u32</td><td>u32</td><td>u32</td><td>u32</td><td>u32</td><td>u32</td><td>u32</td><td>u32</td><td>u32</td><td>u32</td><td>u32</td><td>u32</td><td>u32</td></tr></thead><tbody><tr><td>0</td><td>0</td><td>0</td><td>0</td><td>0</td><td>0</td><td>0</td><td>0</td><td>0</td><td>0</td><td>0</td><td>0</td><td>0</td><td>0</td><td>0</td><td>0</td></tr></tbody></table></div>"
      ],
      "text/plain": [
       "shape: (1, 16)\n",
       "┌────────────┬─────┬────────┬─────────────┬───┬─────────────┬────────────┬────────────┬────────────┐\n",
       "│ student_id ┆ age ┆ gender ┆ study_hours ┆ … ┆ internet_qu ┆ mental_hea ┆ extracurri ┆ exam_score │\n",
       "│ ---        ┆ --- ┆ ---    ┆ _per_day    ┆   ┆ ality       ┆ lth_rating ┆ cular_part ┆ ---        │\n",
       "│ u32        ┆ u32 ┆ u32    ┆ ---         ┆   ┆ ---         ┆ ---        ┆ icipation  ┆ u32        │\n",
       "│            ┆     ┆        ┆ u32         ┆   ┆ u32         ┆ u32        ┆ ---        ┆            │\n",
       "│            ┆     ┆        ┆             ┆   ┆             ┆            ┆ u32        ┆            │\n",
       "╞════════════╪═════╪════════╪═════════════╪═══╪═════════════╪════════════╪════════════╪════════════╡\n",
       "│ 0          ┆ 0   ┆ 0      ┆ 0           ┆ … ┆ 0           ┆ 0          ┆ 0          ┆ 0          │\n",
       "└────────────┴─────┴────────┴─────────────┴───┴─────────────┴────────────┴────────────┴────────────┘"
      ]
     },
     "execution_count": 4,
     "metadata": {},
     "output_type": "execute_result"
    }
   ],
   "source": [
    "df.null_count()"
   ]
  },
  {
   "cell_type": "code",
   "execution_count": 5,
   "id": "5af0547c",
   "metadata": {},
   "outputs": [
    {
     "data": {
      "text/html": [
       "<div><style>\n",
       ".dataframe > thead > tr,\n",
       ".dataframe > tbody > tr {\n",
       "  text-align: right;\n",
       "  white-space: pre-wrap;\n",
       "}\n",
       "</style>\n",
       "<small>shape: (0, 16)</small><table border=\"1\" class=\"dataframe\"><thead><tr><th>student_id</th><th>age</th><th>gender</th><th>study_hours_per_day</th><th>social_media_hours</th><th>netflix_hours</th><th>part_time_job</th><th>attendance_percentage</th><th>sleep_hours</th><th>diet_quality</th><th>exercise_frequency</th><th>parental_education_level</th><th>internet_quality</th><th>mental_health_rating</th><th>extracurricular_participation</th><th>exam_score</th></tr><tr><td>str</td><td>i64</td><td>str</td><td>f64</td><td>f64</td><td>f64</td><td>str</td><td>f64</td><td>f64</td><td>str</td><td>i64</td><td>str</td><td>str</td><td>i64</td><td>str</td><td>f64</td></tr></thead><tbody></tbody></table></div>"
      ],
      "text/plain": [
       "shape: (0, 16)\n",
       "┌────────────┬─────┬────────┬─────────────┬───┬─────────────┬────────────┬────────────┬────────────┐\n",
       "│ student_id ┆ age ┆ gender ┆ study_hours ┆ … ┆ internet_qu ┆ mental_hea ┆ extracurri ┆ exam_score │\n",
       "│ ---        ┆ --- ┆ ---    ┆ _per_day    ┆   ┆ ality       ┆ lth_rating ┆ cular_part ┆ ---        │\n",
       "│ str        ┆ i64 ┆ str    ┆ ---         ┆   ┆ ---         ┆ ---        ┆ icipation  ┆ f64        │\n",
       "│            ┆     ┆        ┆ f64         ┆   ┆ str         ┆ i64        ┆ ---        ┆            │\n",
       "│            ┆     ┆        ┆             ┆   ┆             ┆            ┆ str        ┆            │\n",
       "╞════════════╪═════╪════════╪═════════════╪═══╪═════════════╪════════════╪════════════╪════════════╡\n",
       "└────────────┴─────┴────────┴─────────────┴───┴─────────────┴────────────┴────────────┴────────────┘"
      ]
     },
     "execution_count": 5,
     "metadata": {},
     "output_type": "execute_result"
    }
   ],
   "source": [
    "df.filter(df.is_duplicated())"
   ]
  }
 ],
 "metadata": {
  "kernelspec": {
   "display_name": "statistics-with-python",
   "language": "python",
   "name": "python3"
  },
  "language_info": {
   "codemirror_mode": {
    "name": "ipython",
    "version": 3
   },
   "file_extension": ".py",
   "mimetype": "text/x-python",
   "name": "python",
   "nbconvert_exporter": "python",
   "pygments_lexer": "ipython3",
   "version": "3.11.9"
  }
 },
 "nbformat": 4,
 "nbformat_minor": 5
}
